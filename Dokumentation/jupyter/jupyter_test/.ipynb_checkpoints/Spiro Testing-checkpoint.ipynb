{
 "cells": [
  {
   "cell_type": "code",
   "execution_count": null,
   "metadata": {},
   "outputs": [],
   "source": []
  },
  {
   "cell_type": "code",
   "execution_count": 2,
   "metadata": {},
   "outputs": [],
   "source": [
    "import math"
   ]
  },
  {
   "cell_type": "markdown",
   "metadata": {},
   "source": [
    "# Hypotrochoid\n",
    "## 2 Kreis rollt auf der innenseite des 1 Kreises \n",
    "\n",
    "\n",
    "# Epitrochoid\n",
    "## 2 Kreis rollt auf der Außenseite des 1 Kreises "
   ]
  },
  {
   "cell_type": "markdown",
   "metadata": {},
   "source": [
    "k = R / r ( R = Radius großer Kreis  r = Radius kleiner Kreis)  -> Bestimmt das Aussehen\n",
    "    Falls: \n",
    "        k = integer -> Stern mit k Zacken\n",
    "        k= m / n -> Ausshen wie eine Blüte mit m Blättern\n",
    "        \n",
    "R = Radius 1 Kreis \n",
    "r = Radius 2 Kreis\n",
    "h = Abstand Punkt zum Mittelpunkt des Zweiten Kreises \n",
    "\n",
    "a = Winkel alpha"
   ]
  },
  {
   "cell_type": "markdown",
   "metadata": {},
   "source": [
    "### calculate_position_epitrochoid\n",
    "\n",
    "übernimmt als parameter, den Winkel a, R, r, h  und liefert als ergebnis die X und Y Coordinate des Punkts in form eines Tupels "
   ]
  },
  {
   "cell_type": "code",
   "execution_count": 3,
   "metadata": {},
   "outputs": [],
   "source": [
    "def calculate_position_epitrochoid(a=0, R=5 , r=3, h=1):\n",
    "    x = (R + r) * math.cos(a) + h * math.cos(a + ((R / r) * a))\n",
    "    y = (R + r) * math.sin(a) + h * math.sin(a + ((R / r) * a))\n",
    "    return x, y "
   ]
  },
  {
   "cell_type": "code",
   "execution_count": 4,
   "metadata": {},
   "outputs": [
    {
     "name": "stdout",
     "output_type": "stream",
     "text": [
      "(9.0, 0.0)\n"
     ]
    }
   ],
   "source": [
    "print(calculate_position_epitrochoid( ))"
   ]
  },
  {
   "cell_type": "markdown",
   "metadata": {},
   "source": [
    "### calculate_position_hypotrochoid\n",
    "\n",
    "übernimmt als Parameter , den Winkel a, R, r, h  und liefert als Ergebnis die X und Y Coordinate in Form eines Tupels "
   ]
  },
  {
   "cell_type": "code",
   "execution_count": 5,
   "metadata": {},
   "outputs": [],
   "source": [
    "def calculate_position_hypotrochoid(a=0, R=5 , r=3, h=1):\n",
    "    x = (R - r) * math.cos(a) + h * math.cos(a + ((R / r) * a))\n",
    "    y = (R - r) * math.sin(a) + h * math.sin(a + ((R / r) * a))\n",
    "    return x, y "
   ]
  },
  {
   "cell_type": "code",
   "execution_count": 6,
   "metadata": {},
   "outputs": [
    {
     "name": "stdout",
     "output_type": "stream",
     "text": [
      "(3.0, 0.0)\n"
     ]
    }
   ],
   "source": [
    "print(calculate_position_hypotrochoid())"
   ]
  },
  {
   "cell_type": "code",
   "execution_count": 24,
   "metadata": {},
   "outputs": [],
   "source": []
  },
  {
   "cell_type": "code",
   "execution_count": 28,
   "metadata": {},
   "outputs": [],
   "source": [
    "class Spiro:\n",
    "    def __init__(self, x_offset, y_offset, R=5, r=3, h= 1, style=\"hypotrochoid\"):\n",
    "        self.step = 1\n",
    "        self.R = R\n",
    "        self.r = r \n",
    "        self.h = h\n",
    "        self.x_offset = 0\n",
    "        self.y_offset = 0\n",
    "        self.style = syle\n",
    "        self.finished = False\n",
    "        self.nRot = self.r // (math.gcd(int(self.r), int(self.R)))\n",
    "        \n",
    "        if style == \"hypotrochoid\":\n",
    "            self.xc, self.yc = calculate_position_hypotrochoid(R=self.R, r=self.r, h=self.h)\n",
    "            self.xc, self.yc = self.x_offset, self.y_offset\n",
    "        else:\n",
    "            self.xc, self.yc = calculate_position_epitrochoid(R=self.R, r=self.r, h=self.h)\n",
    "            self.xc, self.yc = self.x_offset, self.y_offset\n",
    "      \n",
    "    \n",
    "    def update(self, style):\n",
    "        if self.finished:\n",
    "            return\n",
    "        \n",
    "        self.a += self.step\n",
    "        \n",
    "        a = math.radians(self.a)\n",
    "        \n",
    "        if style == \"hypotrochoid\":\n",
    "            temp_x, temp_y = calculate_position_hypotrochoid(R=self.R, r=self.r, h=self.h)\n",
    "        else:\n",
    "            temp_x, temp_y = calculate_position_epitrochoid(R=self.R, r=self.r, h=self.h)\n",
    "        \n",
    "        self.xc += temp_x\n",
    "        self.yc += temp_y\n",
    "        \n",
    "        if self.a >= 360 * self.nRot:\n",
    "            self.finished = True\n",
    "    \n",
    "    def return_complete_list(self, style):\n",
    "        return_list = []\n",
    "        for i in range(0, 360 * self.nRot + 1, self.step):\n",
    "            a = math.radians(i)\n",
    "            update(style)\n",
    "            return_list.append((self.xc, self.yc))\n",
    "        return return_list\n",
    "            \n",
    "    def calculate_position_hypotrochoid(a=0, R=5 , r=3, h=1):\n",
    "        x = (R - r) * math.cos(a) + h * math.cos(a + ((R / r) * a))\n",
    "        y = (R - r) * math.sin(a) + h * math.sin(a + ((R / r) * a))\n",
    "        return x, y \n",
    "    \n",
    "    def calculate_position_epitrochoid(a=0, R=5 , r=3, h=1):\n",
    "        x = (R + r) * math.cos(a) + h * math.cos(a + ((R / r) * a))\n",
    "        y = (R + r) * math.sin(a) + h * math.sin(a + ((R / r) * a))\n",
    "        return x, y "
   ]
  },
  {
   "cell_type": "code",
   "execution_count": 26,
   "metadata": {},
   "outputs": [
    {
     "name": "stdout",
     "output_type": "stream",
     "text": [
      "1.0\n",
      "1.0\n"
     ]
    }
   ],
   "source": []
  },
  {
   "cell_type": "code",
   "execution_count": null,
   "metadata": {},
   "outputs": [],
   "source": []
  }
 ],
 "metadata": {
  "kernelspec": {
   "display_name": "Python 3",
   "language": "python",
   "name": "python3"
  },
  "language_info": {
   "codemirror_mode": {
    "name": "ipython",
    "version": 3
   },
   "file_extension": ".py",
   "mimetype": "text/x-python",
   "name": "python",
   "nbconvert_exporter": "python",
   "pygments_lexer": "ipython3",
   "version": "3.8.5"
  }
 },
 "nbformat": 4,
 "nbformat_minor": 4
}
