{
 "cells": [
  {
   "cell_type": "markdown",
   "metadata": {},
   "source": [
    "# Login Code\n",
    "### überdiesen Code logt sich eine Selenium Instanz auf dem IG account ein"
   ]
  },
  {
   "cell_type": "code",
   "execution_count": 12,
   "metadata": {},
   "outputs": [],
   "source": [
    "from selenium import webdriver\n",
    "from time import sleep\n",
    "\n",
    "#user = \"instandbot\"\n",
    "#pwd = \"aiLKq0218,.q&\"\n",
    "\n",
    "\n",
    "user= \"alphabot44\"\n",
    "pwd=\"Y$JJErhrG4u{H2,\"\n",
    "\n",
    "browser = webdriver.Firefox()\n",
    "\n",
    "browser.get(\"https://www.instagramm.com/\")\n",
    "\n",
    "\n",
    "coockie_box = browser.find_element_by_xpath('//button[text()=\"Accept All\"]')\n",
    "coockie_box.click()\n",
    "\n",
    "sleep(5)\n",
    "\n",
    "user_box = browser.find_element_by_xpath(\"//input[@name='username' and @type='text']\")\n",
    "user_box.send_keys(user)\n",
    "\n",
    "pwd_box = browser.find_element_by_xpath(\"//input[@name='password' and @type='password']\")\n",
    "pwd_box.send_keys(pwd)\n",
    "\n",
    "login_button = browser.find_element_by_xpath(\"//button[@type= 'submit']\")\n",
    "login_button.click()\n",
    "\n",
    "sleep(10)\n",
    "save_login_button = browser.find_element_by_xpath('//button[text()=\"Not Now\" and @type=\"button\"]')\n",
    "save_login_button.click()\n",
    "\n",
    "no_notifikation = browser.find_element_by_xpath('//button[text()=\"Not Now\"]')\n",
    "no_notifikation.click()\n",
    "\n"
   ]
  },
  {
   "cell_type": "markdown",
   "metadata": {},
   "source": [
    "# Follow bei tag\n",
    "## über diesn Code sucht die Instanz nach den in explore_tags definierten tags und liked und followed einer zufälligen anzhal an Accounts"
   ]
  },
  {
   "cell_type": "code",
   "execution_count": 2,
   "metadata": {},
   "outputs": [],
   "source": [
    "import random \n",
    "explore_tags=[\"https://www.instagram.com/explore/tags/spirograph/\", \n",
    "              \"https://www.instagram.com/explore/tags/asmr/\",\n",
    "              \"https://www.instagram.com/explore/tags/animation/\", \n",
    "              \"https://www.instagram.com/explore/tags/coding/\"]\n",
    "for tag in explore_tags:\n",
    "    browser.get(tag)\n",
    "\n",
    "    link_tags= browser.find_elements_by_tag_name('a')\n",
    "    links = []\n",
    "    for element in link_tags:\n",
    "        href = element.get_attribute('href')\n",
    "\n",
    "        if href.__contains__('/p/'):\n",
    "            links.append(href)\n",
    "    \n",
    "    random_amount= random.randint(0,0)\n",
    "    amount_of_links = len(links)\n",
    "    list_of_post_to_follow=[]\n",
    "    random_post_index = 0\n",
    "    \n",
    "    for i in range(0, random_amount):\n",
    "        random_post_index = random.randint(0,amount_of_links-1)\n",
    "        list_of_post_to_follow.append(links[random_post_index])\n",
    "        del  links[random_post_index]\n",
    "        amount_of_links -= 1\n",
    "    \n",
    "    for element in list_of_post_to_follow:\n",
    "        browser.get(element)\n",
    "        like_button = browser.find_element_by_xpath(\"//span[contains(@class,'fr66n')]//button[contains(@type,'button')]\")\n",
    "        like_button.click()\n",
    "\n",
    "        follow_button = browser.find_element_by_xpath(\"//div[@class='bY2yH']//button[@type='button'][normalize-space()='Follow']\")\n",
    "        follow_button.click()"
   ]
  },
  {
   "cell_type": "markdown",
   "metadata": {},
   "source": [
    "# Post Content"
   ]
  },
  {
   "cell_type": "code",
   "execution_count": 21,
   "metadata": {},
   "outputs": [
    {
     "name": "stdout",
     "output_type": "stream",
     "text": [
      "Collecting pyautoguiNote: you may need to restart the kernel to use updated packages.\n",
      "\n",
      "  Downloading PyAutoGUI-0.9.53.tar.gz (59 kB)\n",
      "Collecting pymsgbox\n",
      "  Downloading PyMsgBox-1.0.9.tar.gz (18 kB)\n",
      "  Installing build dependencies: started\n",
      "  Installing build dependencies: finished with status 'done'\n",
      "  Getting requirements to build wheel: started\n",
      "  Getting requirements to build wheel: finished with status 'done'\n",
      "    Preparing wheel metadata: started\n",
      "    Preparing wheel metadata: finished with status 'done'\n",
      "Collecting PyTweening>=1.0.1\n",
      "  Downloading pytweening-1.0.4.tar.gz (14 kB)\n",
      "Collecting pyscreeze>=0.1.21\n",
      "  Downloading PyScreeze-0.1.28.tar.gz (25 kB)\n",
      "  Installing build dependencies: started\n",
      "  Installing build dependencies: finished with status 'done'\n",
      "  Getting requirements to build wheel: started\n",
      "  Getting requirements to build wheel: finished with status 'done'\n",
      "    Preparing wheel metadata: started\n",
      "    Preparing wheel metadata: finished with status 'done'\n",
      "Collecting pygetwindow>=0.0.5\n",
      "  Downloading PyGetWindow-0.0.9.tar.gz (9.7 kB)\n",
      "Collecting mouseinfo\n",
      "  Downloading MouseInfo-0.1.3.tar.gz (10 kB)\n",
      "Requirement already satisfied: Pillow>=6.2.1; python_version == \"3.8\" in c:\\programdata\\anaconda3\\lib\\site-packages (from pyscreeze>=0.1.21->pyautogui) (8.0.1)\n",
      "Collecting pyrect\n",
      "  Downloading PyRect-0.1.4.tar.gz (15 kB)\n",
      "Collecting pyperclip\n",
      "  Downloading pyperclip-1.8.2.tar.gz (20 kB)\n",
      "Building wheels for collected packages: pyautogui, pymsgbox, PyTweening, pyscreeze, pygetwindow, mouseinfo, pyrect, pyperclip\n",
      "  Building wheel for pyautogui (setup.py): started\n",
      "  Building wheel for pyautogui (setup.py): finished with status 'done'\n",
      "  Created wheel for pyautogui: filename=PyAutoGUI-0.9.53-py3-none-any.whl size=36589 sha256=e02d3243abdf76eddc869df3dec0fe15689d1e308bcdf6f94f8c62f8f8761642\n",
      "  Stored in directory: c:\\users\\korbinian\\appdata\\local\\pip\\cache\\wheels\\54\\04\\f7\\55704a9d374ed923785a4fdc0ef00151fa25306b3b93345532\n",
      "  Building wheel for pymsgbox (PEP 517): started\n",
      "  Building wheel for pymsgbox (PEP 517): finished with status 'done'\n",
      "  Created wheel for pymsgbox: filename=PyMsgBox-1.0.9-py3-none-any.whl size=7420 sha256=42a6763e22610f5efe145e31f903f6ca10302a9dda19ce9b61998bcc6ac28384\n",
      "  Stored in directory: c:\\users\\korbinian\\appdata\\local\\pip\\cache\\wheels\\91\\28\\0d\\f4eb606d38276836237d6dc2abf094241e6db5682a126e0389\n",
      "  Building wheel for PyTweening (setup.py): started\n",
      "  Building wheel for PyTweening (setup.py): finished with status 'done'\n",
      "  Created wheel for PyTweening: filename=pytweening-1.0.4-py3-none-any.whl size=5830 sha256=6397c999bb8192c3d4b5d667b413dc797398e36021267b9326fca681ebc1d843\n",
      "  Stored in directory: c:\\users\\korbinian\\appdata\\local\\pip\\cache\\wheels\\a2\\1b\\69\\dc477653ccc19228bf53af76c623e4e82e5dc1b6f78d5c4d35\n",
      "  Building wheel for pyscreeze (PEP 517): started\n",
      "  Building wheel for pyscreeze (PEP 517): finished with status 'done'\n",
      "  Created wheel for pyscreeze: filename=PyScreeze-0.1.28-py3-none-any.whl size=13023 sha256=e94cfd1dcba57c084d7573ee9d5900780cb8492174f124ba1c5dbbd13c573974\n",
      "  Stored in directory: c:\\users\\korbinian\\appdata\\local\\pip\\cache\\wheels\\b1\\b0\\5c\\9fb5beb2d6c708479a670e92f4ab3b54523a15c9cd4a46e24e\n",
      "  Building wheel for pygetwindow (setup.py): started\n",
      "  Building wheel for pygetwindow (setup.py): finished with status 'done'\n",
      "  Created wheel for pygetwindow: filename=PyGetWindow-0.0.9-py3-none-any.whl size=11084 sha256=3b6c311a752bdc0d23dd8acfe5c1542796b1e057a9df3bf608b9cb7bb378beb1\n",
      "  Stored in directory: c:\\users\\korbinian\\appdata\\local\\pip\\cache\\wheels\\91\\e3\\04\\184bda98ec7f7d5f0ba1f372bcf7b3ba86325151ae1dd690fe\n",
      "  Building wheel for mouseinfo (setup.py): started\n",
      "  Building wheel for mouseinfo (setup.py): finished with status 'done'\n",
      "  Created wheel for mouseinfo: filename=MouseInfo-0.1.3-py3-none-any.whl size=10910 sha256=11c9a4f40880f592c97e20510e7babad03d76c47fb1f6976a48e7261cf7093ab\n",
      "  Stored in directory: c:\\users\\korbinian\\appdata\\local\\pip\\cache\\wheels\\d1\\72\\fb\\35f403de66285df8ecca7049bcc61bfb57aba0f76d1f08f7eb\n",
      "  Building wheel for pyrect (setup.py): started\n",
      "  Building wheel for pyrect (setup.py): finished with status 'done'\n",
      "  Created wheel for pyrect: filename=PyRect-0.1.4-py2.py3-none-any.whl size=9552 sha256=7aab3146d4a098e9f2173b0440c26e1946e5583be26b5374a0b1ce81ab409a07\n",
      "  Stored in directory: c:\\users\\korbinian\\appdata\\local\\pip\\cache\\wheels\\d1\\e4\\47\\c62f8291b16b6df7e89ac885881ff71f35ca04c6e384251de9\n",
      "  Building wheel for pyperclip (setup.py): started\n",
      "  Building wheel for pyperclip (setup.py): finished with status 'done'\n",
      "  Created wheel for pyperclip: filename=pyperclip-1.8.2-py3-none-any.whl size=11112 sha256=1be48f690f7a24dfdd38a8d3c48ceace95ac88b04dc515ded63935feda0bb4b4\n",
      "  Stored in directory: c:\\users\\korbinian\\appdata\\local\\pip\\cache\\wheels\\7f\\1a\\65\\84ff8c386bec21fca6d220ea1f5498a0367883a78dd5ba6122\n",
      "Successfully built pyautogui pymsgbox PyTweening pyscreeze pygetwindow mouseinfo pyrect pyperclip\n",
      "Installing collected packages: pymsgbox, PyTweening, pyscreeze, pyrect, pygetwindow, pyperclip, mouseinfo, pyautogui\n",
      "Successfully installed PyTweening-1.0.4 mouseinfo-0.1.3 pyautogui-0.9.53 pygetwindow-0.0.9 pymsgbox-1.0.9 pyperclip-1.8.2 pyrect-0.1.4 pyscreeze-0.1.28\n"
     ]
    }
   ],
   "source": [
    "pip install pyautogui"
   ]
  },
  {
   "cell_type": "code",
   "execution_count": 31,
   "metadata": {},
   "outputs": [],
   "source": [
    "import pyautogui\n",
    "browser.get(\"https://www.instagram.com/\")\n",
    "\n",
    "create_post = browser.find_element_by_xpath(\"//button[@class='wpO6b ZQScA ']\")\n",
    "create_post.click()\n",
    "\n",
    "select_from_pc = browser.find_element_by_xpath(\"//button[normalize-space()='Select from computer']\")\n",
    "select_from_pc.click()\n",
    "\n",
    "pyautogui.click(x=231, y=221, clicks=2,interval=0.25) #click pic x=231, y=221"
   ]
  },
  {
   "cell_type": "code",
   "execution_count": 33,
   "metadata": {},
   "outputs": [],
   "source": [
    "button_next = browser.find_element_by_xpath(\"//button[normalize-space()='Next']\")\n",
    "button_next.click()\n",
    "\n",
    "button_next = browser.find_element_by_xpath(\"//button[normalize-space()='Next']\")\n",
    "button_next.click()"
   ]
  },
  {
   "cell_type": "code",
   "execution_count": 74,
   "metadata": {},
   "outputs": [],
   "source": [
    "hashtag=[]\n",
    "with open(\"C:/Users/Korbinian/Desktop/Git_official/Insta_star/user/contend/post_subtitle/subtitle.txt\") as f:\n",
    "    subtitle = f.readlines()\n",
    "    \n",
    "with open(\"C:/Users/Korbinian/Desktop/Git_official/Insta_star/user/contend/hashtags/hashtags.txt\") as f:\n",
    "    lines = f.readlines()\n",
    "\n",
    "for line in lines:\n",
    "    hashtag.append(line.strip())\n",
    "\n",
    "caption =subtitle[0]+\"\\n\\n\\n\"\n",
    "hashtag_sign = chr(35)\n",
    "\n",
    "pyautogui.click(x=901, y=359)  \n",
    "\n",
    "pyautogui.write(caption)\n",
    "pyautogui.typewrite(hashtag_sign)\n"
   ]
  },
  {
   "cell_type": "code",
   "execution_count": 42,
   "metadata": {},
   "outputs": [
    {
     "data": {
      "text/plain": [
       "Point(x=901, y=359)"
      ]
     },
     "execution_count": 42,
     "metadata": {},
     "output_type": "execute_result"
    }
   ],
   "source": [
    "pyautogui.position()"
   ]
  },
  {
   "cell_type": "code",
   "execution_count": null,
   "metadata": {},
   "outputs": [],
   "source": [
    "35"
   ]
  }
 ],
 "metadata": {
  "kernelspec": {
   "display_name": "Python 3",
   "language": "python",
   "name": "python3"
  },
  "language_info": {
   "codemirror_mode": {
    "name": "ipython",
    "version": 3
   },
   "file_extension": ".py",
   "mimetype": "text/x-python",
   "name": "python",
   "nbconvert_exporter": "python",
   "pygments_lexer": "ipython3",
   "version": "3.8.5"
  }
 },
 "nbformat": 4,
 "nbformat_minor": 4
}
