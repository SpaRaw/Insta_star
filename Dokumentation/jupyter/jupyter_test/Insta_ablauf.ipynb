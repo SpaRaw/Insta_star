{
 "cells": [
  {
   "cell_type": "markdown",
   "metadata": {},
   "source": [
    "# Login Code\n",
    "### überdiesen Code logt sich eine Selenium Instanz auf dem IG account ein"
   ]
  },
  {
   "cell_type": "code",
   "execution_count": 1,
   "metadata": {
    "scrolled": true
   },
   "outputs": [],
   "source": [
    "from selenium import webdriver\n",
    "from time import sleep\n",
    "\n",
    "#user = \"instandbot\"\n",
    "#pwd = \"aiLKq0218,.q&\"\n",
    "\n",
    "\n",
    "user= \"alphabot44\"\n",
    "pwd=\"Y$JJErhrG4u{H2,\"\n",
    "\n",
    "browser = webdriver.Firefox()\n",
    "\n",
    "browser.get(\"https://www.instagramm.com/\")\n",
    "\n",
    "\n",
    "coockie_box = browser.find_element_by_xpath('//button[text()=\"Accept All\"]')\n",
    "coockie_box.click()\n",
    "\n",
    "sleep(5)\n",
    "\n",
    "user_box = browser.find_element_by_xpath(\"//input[@name='username' and @type='text']\")\n",
    "user_box.send_keys(user)\n",
    "\n",
    "pwd_box = browser.find_element_by_xpath(\"//input[@name='password' and @type='password']\")\n",
    "pwd_box.send_keys(pwd)\n",
    "\n",
    "login_button = browser.find_element_by_xpath(\"//button[@type= 'submit']\")\n",
    "login_button.click()\n",
    "\n",
    "sleep(10)\n",
    "save_login_button = browser.find_element_by_xpath('//button[text()=\"Not Now\" and @type=\"button\"]')\n",
    "save_login_button.click()\n",
    "\n",
    "sleep(5)\n",
    "no_notifikation = browser.find_element_by_xpath('//button[text()=\"Not Now\"]')\n",
    "no_notifikation.click()\n",
    "\n"
   ]
  },
  {
   "cell_type": "markdown",
   "metadata": {},
   "source": [
    "# Follow bei tag\n",
    "## über diesn Code sucht die Instanz nach den in explore_tags definierten tags und liked und followed einer zufälligen anzhal an Accounts"
   ]
  },
  {
   "cell_type": "code",
   "execution_count": 2,
   "metadata": {},
   "outputs": [],
   "source": [
    "import random \n",
    "explore_tags=[\"https://www.instagram.com/explore/tags/spirograph/\", \n",
    "              \"https://www.instagram.com/explore/tags/asmr/\",\n",
    "              \"https://www.instagram.com/explore/tags/animation/\", \n",
    "              \"https://www.instagram.com/explore/tags/coding/\"]\n",
    "for tag in explore_tags:\n",
    "    browser.get(tag)\n",
    "\n",
    "    link_tags= browser.find_elements_by_tag_name('a')\n",
    "    links = []\n",
    "    for element in link_tags:\n",
    "        href = element.get_attribute('href')\n",
    "\n",
    "        if href.__contains__('/p/'):\n",
    "            links.append(href)\n",
    "    \n",
    "    random_amount= random.randint(0,5)\n",
    "    amount_of_links = len(links)\n",
    "    list_of_post_to_follow=[]\n",
    "    random_post_index = 0\n",
    "    \n",
    "    for i in range(0, random_amount):\n",
    "        random_post_index = random.randint(0,amount_of_links-1)\n",
    "        list_of_post_to_follow.append(links[random_post_index])\n",
    "        del  links[random_post_index]\n",
    "        amount_of_links -= 1\n",
    "    \n",
    "    for element in list_of_post_to_follow:\n",
    "        browser.get(element)\n",
    "        like_button = browser.find_element_by_xpath(\"//span[contains(@class,'fr66n')]//button[contains(@type,'button')]\")\n",
    "        like_button.click()\n",
    "\n",
    "        follow_button = browser.find_element_by_xpath(\"//div[@class='bY2yH']//button[@type='button'][normalize-space()='Follow']\")\n",
    "        follow_button.click()"
   ]
  },
  {
   "cell_type": "markdown",
   "metadata": {},
   "source": [
    "# Post Content"
   ]
  },
  {
   "cell_type": "code",
   "execution_count": 3,
   "metadata": {},
   "outputs": [],
   "source": [
    "import pyautogui\n",
    "from pynput.keyboard import Controller\n",
    "keyboard = Controller()\n"
   ]
  },
  {
   "cell_type": "code",
   "execution_count": 5,
   "metadata": {},
   "outputs": [],
   "source": [
    "browser.get(\"https://www.instagram.com/\")\n",
    "\n",
    "sleep(5)\n",
    "create_post = browser.find_element_by_xpath(\"//div[@class='vZuFV']//button[@type='button']\")\n",
    "create_post.click()\n",
    "\n",
    "select_from_pc = browser.find_element_by_xpath(\"//button[normalize-space()='Select from computer']\")\n",
    "select_from_pc.click()\n",
    "sleep(3)\n",
    "pyautogui.hotkey ('alt', 'tab', interval=0.1)\n",
    "sleep(1)\n",
    "\n",
    "t = r\"C:\\Users\\Korbinian\\Desktop\\Git_official\\Insta_star\\user\\contend\\post\\post.mp4\"\n",
    "keyboard.type(t)\n",
    "pyautogui.press('enter')\n"
   ]
  },
  {
   "cell_type": "raw",
   "metadata": {},
   "source": []
  },
  {
   "cell_type": "code",
   "execution_count": 6,
   "metadata": {},
   "outputs": [],
   "source": [
    "next_button = browser.find_element_by_xpath(\"//button[normalize-space()='Next']\")\n",
    "next_button.click()\n",
    "next_button = browser.find_element_by_xpath(\"//button[normalize-space()='Next']\")\n",
    "next_button.click()"
   ]
  },
  {
   "cell_type": "code",
   "execution_count": 7,
   "metadata": {},
   "outputs": [],
   "source": [
    "a = browser.find_element_by_xpath(\"//textarea[@placeholder='Write a caption...']\")\n",
    "a.click()"
   ]
  },
  {
   "cell_type": "code",
   "execution_count": 8,
   "metadata": {},
   "outputs": [],
   "source": [
    "path_to_caption=r\"C:\\Users\\Korbinian\\Desktop\\Git_official\\Insta_star\\user\\contend\\post_subtitle\\subtitle.txt\"\n",
    "path_to_hashtag = r\"C:\\Users\\Korbinian\\Desktop\\Git_official\\Insta_star\\user\\contend\\hashtags\\hashtags.txt\""
   ]
  },
  {
   "cell_type": "code",
   "execution_count": 9,
   "metadata": {},
   "outputs": [],
   "source": [
    "post_string=\"\""
   ]
  },
  {
   "cell_type": "code",
   "execution_count": 10,
   "metadata": {},
   "outputs": [],
   "source": [
    "with open(path_to_caption) as f:\n",
    "    lines = f.readlines()\n",
    "    for line in lines:\n",
    "        post_string += line "
   ]
  },
  {
   "cell_type": "code",
   "execution_count": 11,
   "metadata": {},
   "outputs": [],
   "source": [
    "hashtag_list = []"
   ]
  },
  {
   "cell_type": "code",
   "execution_count": 12,
   "metadata": {},
   "outputs": [],
   "source": [
    "with open(path_to_hashtag) as f:\n",
    "    lines = f.readlines()\n",
    "    for line in lines:\n",
    "        hashtag_list.append(line) "
   ]
  },
  {
   "cell_type": "code",
   "execution_count": 13,
   "metadata": {},
   "outputs": [],
   "source": [
    "a.send_keys(post_string)\n",
    "a.send_keys(\"\\n\")"
   ]
  },
  {
   "cell_type": "code",
   "execution_count": 14,
   "metadata": {},
   "outputs": [],
   "source": [
    "for element in hashtag_list:\n",
    "    a.send_keys(element)"
   ]
  },
  {
   "cell_type": "code",
   "execution_count": 15,
   "metadata": {},
   "outputs": [],
   "source": [
    "share = browser.find_element_by_xpath(\"//button[normalize-space()='Share']\")\n",
    "share.click()"
   ]
  },
  {
   "cell_type": "code",
   "execution_count": null,
   "metadata": {},
   "outputs": [],
   "source": []
  }
 ],
 "metadata": {
  "kernelspec": {
   "display_name": "Python 3",
   "language": "python",
   "name": "python3"
  },
  "language_info": {
   "codemirror_mode": {
    "name": "ipython",
    "version": 3
   },
   "file_extension": ".py",
   "mimetype": "text/x-python",
   "name": "python",
   "nbconvert_exporter": "python",
   "pygments_lexer": "ipython3",
   "version": "3.8.5"
  }
 },
 "nbformat": 4,
 "nbformat_minor": 4
}
