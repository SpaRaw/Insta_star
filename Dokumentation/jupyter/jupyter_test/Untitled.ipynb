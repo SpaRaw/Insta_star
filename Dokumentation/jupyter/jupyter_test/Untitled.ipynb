{
 "cells": [
  {
   "cell_type": "markdown",
   "metadata": {},
   "source": [
    "# Login Code\n",
    "### überdiesen Code logt sich eine Selenium Instanz auf dem IG account ein"
   ]
  },
  {
   "cell_type": "code",
   "execution_count": 3,
   "metadata": {},
   "outputs": [],
   "source": [
    "from selenium import webdriver\n",
    "from time import sleep\n",
    "\n",
    "#user = \"instandbot\"\n",
    "#pwd = \"aiLKq0218,.q&\"\n",
    "\n",
    "\n",
    "user= \"alphabot44\"\n",
    "pwd=\"Y$JJErhrG4u{H2,\"\n",
    "\n",
    "browser = webdriver.Firefox()\n",
    "\n",
    "browser.get(\"https://www.instagramm.com/\")\n",
    "\n",
    "\n",
    "coockie_box = browser.find_element_by_xpath('//button[text()=\"Accept All\"]')\n",
    "coockie_box.click()\n",
    "\n",
    "sleep(5)\n",
    "\n",
    "user_box = browser.find_element_by_xpath(\"//input[@name='username' and @type='text']\")\n",
    "user_box.send_keys(user)\n",
    "\n",
    "pwd_box = browser.find_element_by_xpath(\"//input[@name='password' and @type='password']\")\n",
    "pwd_box.send_keys(pwd)\n",
    "\n",
    "login_button = browser.find_element_by_xpath(\"//button[@type= 'submit']\")\n",
    "login_button.click()\n",
    "\n",
    "sleep(5)\n",
    "save_login_button = browser.find_element_by_xpath('//button[text()=\"Not Now\" and @type=\"button\"]')\n",
    "save_login_button.click()\n",
    "\n",
    "no_notifikation = browser.find_element_by_xpath('//button[text()=\"Not Now\"]')\n",
    "no_notifikation.click()\n",
    "\n"
   ]
  },
  {
   "cell_type": "markdown",
   "metadata": {},
   "source": [
    "# Follow bei tag\n",
    "## über diesn Code sucht die Instanz nach den in explore_tags definierten tags und liked und followed einer zufälligen anzhal an Accounts"
   ]
  },
  {
   "cell_type": "code",
   "execution_count": 4,
   "metadata": {},
   "outputs": [],
   "source": [
    "import random \n",
    "explore_tags=[\"https://www.instagram.com/explore/tags/spirograph/\", \n",
    "              \"https://www.instagram.com/explore/tags/asmr/\",\n",
    "              \"https://www.instagram.com/explore/tags/animation/\", \n",
    "              \"https://www.instagram.com/explore/tags/coding/\"]\n",
    "for tag in explore_tags:\n",
    "    browser.get(tag)\n",
    "\n",
    "    link_tags= browser.find_elements_by_tag_name('a')\n",
    "    links = []\n",
    "    for element in link_tags:\n",
    "        href = element.get_attribute('href')\n",
    "\n",
    "        if href.__contains__('/p/'):\n",
    "            links.append(href)\n",
    "    \n",
    "    random_amount= random.randint(0,0)\n",
    "    amount_of_links = len(links)\n",
    "    list_of_post_to_follow=[]\n",
    "    random_post_index = 0\n",
    "    \n",
    "    for i in range(0, random_amount):\n",
    "        random_post_index = random.randint(0,amount_of_links-1)\n",
    "        list_of_post_to_follow.append(links[random_post_index])\n",
    "        del  links[random_post_index]\n",
    "        amount_of_links -= 1\n",
    "    \n",
    "    for element in list_of_post_to_follow:\n",
    "        browser.get(element)\n",
    "        like_button = browser.find_element_by_xpath(\"//span[contains(@class,'fr66n')]//button[contains(@type,'button')]\")\n",
    "        like_button.click()\n",
    "\n",
    "        follow_button = browser.find_element_by_xpath(\"//div[@class='bY2yH']//button[@type='button'][normalize-space()='Follow']\")\n",
    "        follow_button.click()"
   ]
  },
  {
   "cell_type": "markdown",
   "metadata": {},
   "source": [
    "# Post Content"
   ]
  },
  {
   "cell_type": "code",
   "execution_count": 9,
   "metadata": {},
   "outputs": [],
   "source": [
    "JS_DROP_FILE = \"\"\"\n",
    "    var target = arguments[0],\n",
    "        offsetX = arguments[1],\n",
    "        offsetY = arguments[2],\n",
    "        document = target.ownerDocument || document,\n",
    "        window = document.defaultView || window;\n",
    "\n",
    "    var input = document.createElement('INPUT');\n",
    "    input.type = 'file';\n",
    "    input.onchange = function () {\n",
    "      var rect = target.getBoundingClientRect(),\n",
    "          x = rect.left + (offsetX || (rect.width >> 1)),\n",
    "          y = rect.top + (offsetY || (rect.height >> 1)),\n",
    "          dataTransfer = { files: this.files };\n",
    "\n",
    "      ['dragenter', 'dragover', 'drop'].forEach(function (name) {\n",
    "        var evt = document.createEvent('MouseEvent');\n",
    "        evt.initMouseEvent(name, !0, !0, window, 0, 0, 0, x, y, !1, !1, !1, !1, 0, null);\n",
    "        evt.dataTransfer = dataTransfer;\n",
    "        target.dispatchEvent(evt);\n",
    "      });\n",
    "\n",
    "      setTimeout(function () { document.body.removeChild(input); }, 25);\n",
    "    };\n",
    "    document.body.appendChild(input);\n",
    "    return input;\n",
    "\"\"\"\n",
    "\n",
    "def drag_and_drop_file(drop_target, path):\n",
    "    browser = drop_target.parent\n",
    "    file_input = browser.execute_script(JS_DROP_FILE, drop_target, 0, 0)\n",
    "    file_input.send_keys(path)"
   ]
  },
  {
   "cell_type": "code",
   "execution_count": 11,
   "metadata": {},
   "outputs": [
    {
     "ename": "SyntaxError",
     "evalue": "(unicode error) 'unicodeescape' codec can't decode bytes in position 2-3: truncated \\UXXXXXXXX escape (<ipython-input-11-af1c217ce039>, line 6)",
     "output_type": "error",
     "traceback": [
      "\u001b[1;36m  File \u001b[1;32m\"<ipython-input-11-af1c217ce039>\"\u001b[1;36m, line \u001b[1;32m6\u001b[0m\n\u001b[1;33m    drag_and_drop_file(\"//body/div[contains(@role,'presentation')]/div[contains(@aria-label,'Create new post')]/div[contains(@class,'_1XyCr HOstH')]/div/div[contains(@class,'')]/div[contains(@class,'uYzeu')]/div[contains(@class,'_C8iK')]/div[contains(@class,'')]/div[1]\", \"C:\\Users\\Korbinian\\Desktop\\Git_official\\Insta_star\\user\\contend\\post\\pic.png\")\u001b[0m\n\u001b[1;37m                                                                                                                                                                                                                                                                                ^\u001b[0m\n\u001b[1;31mSyntaxError\u001b[0m\u001b[1;31m:\u001b[0m (unicode error) 'unicodeescape' codec can't decode bytes in position 2-3: truncated \\UXXXXXXXX escape\n"
     ]
    }
   ],
   "source": [
    "browser.get(\"https://www.instagram.com/\")\n",
    "\n",
    "create_post = browser.find_element_by_xpath(\"//button[@class='wpO6b ZQScA ']\")\n",
    "create_post.click()\n",
    "\n",
    "#drag_and_drop_file(\"//body/div[contains(@role,'presentation')]/div[contains(@aria-label,'Create new post')]/div[contains(@class,'_1XyCr HOstH')]/div/div[contains(@class,'')]/div[contains(@class,'uYzeu')]/div[contains(@class,'_C8iK')]/div[contains(@class,'')]/div[1]\", \"C:\\Users\\Korbinian\\Desktop\\Git_official\\Insta_star\\user\\contend\\post\\pic.png\")"
   ]
  },
  {
   "cell_type": "code",
   "execution_count": null,
   "metadata": {},
   "outputs": [],
   "source": []
  },
  {
   "cell_type": "code",
   "execution_count": null,
   "metadata": {},
   "outputs": [],
   "source": []
  }
 ],
 "metadata": {
  "kernelspec": {
   "display_name": "Python 3",
   "language": "python",
   "name": "python3"
  },
  "language_info": {
   "codemirror_mode": {
    "name": "ipython",
    "version": 3
   },
   "file_extension": ".py",
   "mimetype": "text/x-python",
   "name": "python",
   "nbconvert_exporter": "python",
   "pygments_lexer": "ipython3",
   "version": "3.8.5"
  }
 },
 "nbformat": 4,
 "nbformat_minor": 4
}
